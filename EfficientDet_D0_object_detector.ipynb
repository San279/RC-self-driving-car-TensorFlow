{
  "cells": [
    {
      "cell_type": "markdown",
      "metadata": {
        "id": "W03rhbk8Q-q3"
      },
      "source": [
        "<a href=\"https://colab.research.google.com/github/khanhlvg/tflite_raspberry_pi/blob/main/object_detection/Train_custom_model_tutorial.ipynb\" target=\"_parent\"><img src=\"https://colab.research.google.com/assets/colab-badge.svg\" alt=\"Open In Colab\"/></a>"
      ]
    },
    {
      "cell_type": "markdown",
      "metadata": {
        "id": "gf2if_fGDaWc"
      },
      "source": [
        "##### Copyright 2021 The TensorFlow Authors."
      ]
    },
    {
      "cell_type": "code",
      "execution_count": null,
      "metadata": {
        "id": "jrmj83afDJrv"
      },
      "outputs": [],
      "source": [
        "#@title Licensed under the Apache License, Version 2.0 (the \"License\");\n",
        "# you may not use this file except in compliance with the License.\n",
        "# You may obtain a copy of the License at\n",
        "#\n",
        "# https://www.apache.org/licenses/LICENSE-2.0\n",
        "#\n",
        "# Unless required by applicable law or agreed to in writing, software\n",
        "# distributed under the License is distributed on an \"AS IS\" BASIS,\n",
        "# WITHOUT WARRANTIES OR CONDITIONS OF ANY KIND, either express or implied.\n",
        "# See the License for the specific language governing permissions and\n",
        "# limitations under the License."
      ]
    },
    {
      "cell_type": "code",
      "execution_count": null,
      "metadata": {
        "colab": {
          "base_uri": "https://localhost:8080/"
        },
        "id": "35BJmtVpAP_n",
        "outputId": "7f6fd1a9-ddb1-4d83-f8d9-efd1c2c65d92"
      },
      "outputs": [
        {
          "name": "stdout",
          "output_type": "stream",
          "text": [
            "\u001b[K     |████████████████████████████████| 642 kB 8.6 MB/s \n",
            "\u001b[K     |████████████████████████████████| 120 kB 69.3 MB/s \n",
            "\u001b[K     |████████████████████████████████| 87 kB 5.4 MB/s \n",
            "\u001b[K     |████████████████████████████████| 1.2 MB 55.5 MB/s \n",
            "\u001b[K     |████████████████████████████████| 596 kB 72.2 MB/s \n",
            "\u001b[K     |████████████████████████████████| 1.1 MB 52.8 MB/s \n",
            "\u001b[K     |████████████████████████████████| 6.4 MB 46.7 MB/s \n",
            "\u001b[K     |████████████████████████████████| 3.4 MB 39.5 MB/s \n",
            "\u001b[K     |████████████████████████████████| 10.9 MB 34.5 MB/s \n",
            "\u001b[K     |████████████████████████████████| 77 kB 5.2 MB/s \n",
            "\u001b[K     |████████████████████████████████| 840 kB 47.9 MB/s \n",
            "\u001b[K     |████████████████████████████████| 237 kB 54.0 MB/s \n",
            "\u001b[K     |████████████████████████████████| 55.1 MB 50 kB/s \n",
            "\u001b[K     |████████████████████████████████| 25.3 MB 1.2 MB/s \n",
            "\u001b[K     |████████████████████████████████| 48.3 MB 90 kB/s \n",
            "\u001b[K     |████████████████████████████████| 99 kB 11.1 MB/s \n",
            "\u001b[K     |████████████████████████████████| 352 kB 52.3 MB/s \n",
            "\u001b[K     |████████████████████████████████| 40 kB 5.5 MB/s \n",
            "\u001b[K     |████████████████████████████████| 213 kB 68.2 MB/s \n",
            "\u001b[K     |████████████████████████████████| 55.1 MB 168 kB/s \n",
            "\u001b[K     |████████████████████████████████| 55.1 MB 54 kB/s \n",
            "\u001b[K     |████████████████████████████████| 55.1 MB 120 kB/s \n",
            "\u001b[K     |████████████████████████████████| 55.1 MB 116 kB/s \n",
            "\u001b[K     |████████████████████████████████| 55.1 MB 56 kB/s \n",
            "\u001b[K     |████████████████████████████████| 55.1 MB 112 kB/s \n",
            "\u001b[K     |████████████████████████████████| 55.1 MB 58 kB/s \n",
            "\u001b[K     |████████████████████████████████| 55.1 MB 144 kB/s \n",
            "\u001b[K     |████████████████████████████████| 55.1 MB 53 kB/s \n",
            "\u001b[K     |████████████████████████████████| 42.6 MB 1.4 MB/s \n",
            "\u001b[K     |████████████████████████████████| 42.6 MB 1.2 MB/s \n",
            "\u001b[K     |████████████████████████████████| 42.6 MB 1.2 MB/s \n",
            "\u001b[K     |████████████████████████████████| 42.6 MB 1.2 MB/s \n",
            "\u001b[K     |████████████████████████████████| 42.6 MB 1.1 MB/s \n",
            "\u001b[K     |████████████████████████████████| 42.6 MB 1.1 MB/s \n",
            "\u001b[K     |████████████████████████████████| 42.6 MB 1.2 MB/s \n",
            "\u001b[K     |████████████████████████████████| 42.6 MB 1.3 MB/s \n",
            "\u001b[K     |████████████████████████████████| 42.6 MB 1.3 MB/s \n",
            "\u001b[K     |████████████████████████████████| 42.6 MB 1.3 MB/s \n",
            "\u001b[K     |████████████████████████████████| 42.6 MB 1.2 MB/s \n",
            "\u001b[K     |████████████████████████████████| 42.6 MB 1.2 MB/s \n",
            "\u001b[K     |████████████████████████████████| 42.6 MB 1.2 MB/s \n",
            "\u001b[K     |████████████████████████████████| 42.6 MB 1.3 MB/s \n",
            "\u001b[K     |████████████████████████████████| 42.6 MB 1.2 MB/s \n",
            "\u001b[K     |████████████████████████████████| 42.5 MB 1.2 MB/s \n",
            "\u001b[K     |████████████████████████████████| 1.1 MB 57.9 MB/s \n",
            "\u001b[?25h  Building wheel for fire (setup.py) ... \u001b[?25l\u001b[?25hdone\n",
            "  Building wheel for py-cpuinfo (setup.py) ... \u001b[?25l\u001b[?25hdone\n",
            "\u001b[31mERROR: pip's dependency resolver does not currently take into account all the packages that are installed. This behaviour is the source of the following dependency conflicts.\n",
            "datascience 0.10.6 requires folium==0.2.1, but you have folium 0.8.3 which is incompatible.\u001b[0m\n",
            "\u001b[K     |████████████████████████████████| 42.5 MB 1.1 MB/s \n",
            "\u001b[?25h"
          ]
        }
      ],
      "source": [
        "!pip install -q tflite-model-maker\n",
        "!pip install -q tflite-support"
      ]
    },
    {
      "cell_type": "markdown",
      "metadata": {
        "id": "prQ86DdtD317"
      },
      "source": [
        "Import the required packages."
      ]
    },
    {
      "cell_type": "code",
      "execution_count": null,
      "metadata": {
        "id": "l4QQTXHHATDS"
      },
      "outputs": [],
      "source": [
        "import numpy as np\n",
        "import os\n",
        "\n",
        "from tflite_model_maker.config import ExportFormat, QuantizationConfig\n",
        "from tflite_model_maker import model_spec\n",
        "from tflite_model_maker import object_detector\n",
        "\n",
        "from tflite_support import metadata\n",
        "\n",
        "import tensorflow as tf\n",
        "assert tf.__version__.startswith('2')\n",
        "\n",
        "tf.get_logger().setLevel('ERROR')\n",
        "from absl import logging\n",
        "logging.set_verbosity(logging.ERROR)"
      ]
    },
    {
      "cell_type": "code",
      "execution_count": null,
      "metadata": {
        "colab": {
          "base_uri": "https://localhost:8080/"
        },
        "id": "9qUfXsFWS4uf",
        "outputId": "e137c7ec-e900-4ff2-ba93-c2a016691008"
      },
      "outputs": [
        {
          "name": "stdout",
          "output_type": "stream",
          "text": [
            "Mounted at /content/drive\n"
          ]
        }
      ],
      "source": [
        "from google.colab import drive\n",
        "drive.mount('/content/drive')"
      ]
    },
    {
      "cell_type": "code",
      "execution_count": null,
      "metadata": {
        "colab": {
          "background_save": true,
          "base_uri": "https://localhost:8080/",
          "height": 415
        },
        "id": "WiAahdsQAdT7",
        "outputId": "09acf2ad-b142-4615-d3e7-7c010dff73ee"
      },
      "outputs": [
        {
          "name": "stdout",
          "output_type": "stream",
          "text": [
            "150\n"
          ]
        }
      ],
      "source": [
        "train_data = object_detector.DataLoader.from_pascal_voc(\n",
        "    '/content/drive/MyDrive/traffic_light_dataset/train',\n",
        "    '/content/drive/MyDrive/traffic_light_dataset/train',\n",
        "    ['red', 'green', 'yellow']\n",
        ")\n",
        "\n",
        "print(len(train_data))"
      ]
    },
    {
      "cell_type": "code",
      "execution_count": null,
      "metadata": {
        "id": "haO_1QF3UxTE"
      },
      "outputs": [],
      "source": [
        "val_data = object_detector.DataLoader.from_pascal_voc(\n",
        "    '/content/drive/MyDrive/traffic_light_data/test',\n",
        "    '/content/drive/MyDrive/traffic_light_data/test',\n",
        "    ['red', 'green', 'yellow']\n",
        ")\n",
        "print(len(val_data))"
      ]
    },
    {
      "cell_type": "markdown",
      "metadata": {
        "id": "UNRhB8N7GHXj"
      },
      "source": [
        "### Step 2: Select a model architecture\n",
        "\n",
        "EfficientDet-Lite[0-4] are a family of mobile/IoT-friendly object detection models derived from the [EfficientDet](https://arxiv.org/abs/1911.09070) architecture.\n",
        "\n",
        "Here is the performance of each EfficientDet-Lite models compared to each others.\n",
        "\n",
        "| Model architecture | Size(MB)* | Latency(ms)** | Average Precision*** |\n",
        "|--------------------|-----------|---------------|----------------------|\n",
        "| EfficientDet-Lite0 | 4.4       | 146           | 25.69%               |\n",
        "| EfficientDet-Lite1 | 5.8       | 259           | 30.55%               |\n",
        "| EfficientDet-Lite2 | 7.2       | 396           | 33.97%               |\n",
        "| EfficientDet-Lite3 | 11.4      | 716           | 37.70%               |\n",
        "| EfficientDet-Lite4 | 19.9      | 1886          | 41.96%               |\n",
        "\n",
        "<i> * Size of the integer quantized models. <br/>\n",
        "** Latency measured on Raspberry Pi 4 using 4 threads on CPU. <br/>\n",
        "*** Average Precision is the mAP (mean Average Precision) on the COCO 2017 validation dataset.\n",
        "</i>\n",
        "\n",
        "In this notebook, we use EfficientDet-Lite0 to train our model. You can choose other model architectures depending on whether speed or accuracy is more important to you."
      ]
    },
    {
      "cell_type": "code",
      "execution_count": null,
      "metadata": {
        "id": "GZOojrDHAY1J"
      },
      "outputs": [],
      "source": [
        "spec = model_spec.get('efficientdet_lite0')"
      ]
    },
    {
      "cell_type": "code",
      "execution_count": null,
      "metadata": {
        "colab": {
          "base_uri": "https://localhost:8080/"
        },
        "id": "_MClfpsJAfda",
        "outputId": "c2d591cc-6d7a-4eef-ef0a-a95e2bda595e"
      },
      "outputs": [
        {
          "name": "stdout",
          "output_type": "stream",
          "text": [
            "Epoch 1/92\n",
            "2/2 [==============================] - 33s 3s/step - det_loss: 1.8291 - cls_loss: 1.1505 - box_loss: 0.0136 - reg_l2_loss: 0.0632 - loss: 1.8923 - learning_rate: 0.0320 - gradient_norm: 1.0362\n",
            "Epoch 2/92\n",
            "2/2 [==============================] - 3s 2s/step - det_loss: 1.7240 - cls_loss: 1.1340 - box_loss: 0.0118 - reg_l2_loss: 0.0632 - loss: 1.7872 - learning_rate: 0.0800 - gradient_norm: 0.8594\n",
            "Epoch 3/92\n",
            "2/2 [==============================] - 3s 2s/step - det_loss: 1.5562 - cls_loss: 1.0845 - box_loss: 0.0094 - reg_l2_loss: 0.0632 - loss: 1.6194 - learning_rate: 0.0799 - gradient_norm: 0.8954\n",
            "Epoch 4/92\n",
            "2/2 [==============================] - 3s 2s/step - det_loss: 1.3863 - cls_loss: 0.9606 - box_loss: 0.0085 - reg_l2_loss: 0.0632 - loss: 1.4495 - learning_rate: 0.0797 - gradient_norm: 1.1316\n",
            "Epoch 5/92\n",
            "2/2 [==============================] - 3s 2s/step - det_loss: 1.2617 - cls_loss: 0.8363 - box_loss: 0.0085 - reg_l2_loss: 0.0632 - loss: 1.3249 - learning_rate: 0.0796 - gradient_norm: 2.0589\n",
            "Epoch 6/92\n",
            "2/2 [==============================] - 3s 2s/step - det_loss: 0.9844 - cls_loss: 0.6572 - box_loss: 0.0065 - reg_l2_loss: 0.0632 - loss: 1.0476 - learning_rate: 0.0793 - gradient_norm: 1.2694\n",
            "Epoch 7/92\n",
            "2/2 [==============================] - 3s 2s/step - det_loss: 0.9107 - cls_loss: 0.6073 - box_loss: 0.0061 - reg_l2_loss: 0.0632 - loss: 0.9739 - learning_rate: 0.0790 - gradient_norm: 1.2842\n",
            "Epoch 8/92\n",
            "2/2 [==============================] - 4s 3s/step - det_loss: 0.7740 - cls_loss: 0.5157 - box_loss: 0.0052 - reg_l2_loss: 0.0632 - loss: 0.8372 - learning_rate: 0.0787 - gradient_norm: 1.3726\n",
            "Epoch 9/92\n",
            "2/2 [==============================] - 3s 2s/step - det_loss: 0.7280 - cls_loss: 0.4956 - box_loss: 0.0046 - reg_l2_loss: 0.0632 - loss: 0.7912 - learning_rate: 0.0784 - gradient_norm: 1.6190\n",
            "Epoch 10/92\n",
            "2/2 [==============================] - 3s 2s/step - det_loss: 0.6833 - cls_loss: 0.4754 - box_loss: 0.0042 - reg_l2_loss: 0.0632 - loss: 0.7465 - learning_rate: 0.0779 - gradient_norm: 1.2383\n",
            "Epoch 11/92\n",
            "2/2 [==============================] - 3s 2s/step - det_loss: 0.6299 - cls_loss: 0.4548 - box_loss: 0.0035 - reg_l2_loss: 0.0633 - loss: 0.6931 - learning_rate: 0.0775 - gradient_norm: 1.3778\n",
            "Epoch 12/92\n",
            "2/2 [==============================] - 3s 2s/step - det_loss: 0.6409 - cls_loss: 0.4405 - box_loss: 0.0040 - reg_l2_loss: 0.0633 - loss: 0.7042 - learning_rate: 0.0770 - gradient_norm: 1.8019\n",
            "Epoch 13/92\n",
            "2/2 [==============================] - 3s 2s/step - det_loss: 0.5912 - cls_loss: 0.4247 - box_loss: 0.0033 - reg_l2_loss: 0.0633 - loss: 0.6545 - learning_rate: 0.0764 - gradient_norm: 1.2789\n",
            "Epoch 14/92\n",
            "2/2 [==============================] - 3s 2s/step - det_loss: 0.5811 - cls_loss: 0.4183 - box_loss: 0.0033 - reg_l2_loss: 0.0633 - loss: 0.6444 - learning_rate: 0.0758 - gradient_norm: 1.5177\n",
            "Epoch 15/92\n",
            "2/2 [==============================] - 4s 3s/step - det_loss: 0.5896 - cls_loss: 0.4043 - box_loss: 0.0037 - reg_l2_loss: 0.0633 - loss: 0.6529 - learning_rate: 0.0752 - gradient_norm: 1.8478\n",
            "Epoch 16/92\n",
            "2/2 [==============================] - 3s 2s/step - det_loss: 0.5272 - cls_loss: 0.3778 - box_loss: 0.0030 - reg_l2_loss: 0.0633 - loss: 0.5905 - learning_rate: 0.0745 - gradient_norm: 1.1122\n",
            "Epoch 17/92\n",
            "2/2 [==============================] - 3s 2s/step - det_loss: 0.5137 - cls_loss: 0.3613 - box_loss: 0.0030 - reg_l2_loss: 0.0633 - loss: 0.5770 - learning_rate: 0.0738 - gradient_norm: 1.6334\n",
            "Epoch 18/92\n",
            "2/2 [==============================] - 3s 2s/step - det_loss: 0.4813 - cls_loss: 0.3438 - box_loss: 0.0027 - reg_l2_loss: 0.0634 - loss: 0.5446 - learning_rate: 0.0730 - gradient_norm: 1.2349\n",
            "Epoch 19/92\n",
            "2/2 [==============================] - 3s 2s/step - det_loss: 0.4407 - cls_loss: 0.3176 - box_loss: 0.0025 - reg_l2_loss: 0.0634 - loss: 0.5041 - learning_rate: 0.0723 - gradient_norm: 1.0068\n",
            "Epoch 20/92\n",
            "2/2 [==============================] - 3s 2s/step - det_loss: 0.4477 - cls_loss: 0.3233 - box_loss: 0.0025 - reg_l2_loss: 0.0634 - loss: 0.5111 - learning_rate: 0.0714 - gradient_norm: 1.0759\n",
            "Epoch 21/92\n",
            "2/2 [==============================] - 3s 2s/step - det_loss: 0.4131 - cls_loss: 0.2923 - box_loss: 0.0024 - reg_l2_loss: 0.0634 - loss: 0.4765 - learning_rate: 0.0705 - gradient_norm: 1.0749\n",
            "Epoch 22/92\n",
            "2/2 [==============================] - 4s 3s/step - det_loss: 0.3824 - cls_loss: 0.2754 - box_loss: 0.0021 - reg_l2_loss: 0.0634 - loss: 0.4457 - learning_rate: 0.0696 - gradient_norm: 1.0192\n",
            "Epoch 23/92\n",
            "2/2 [==============================] - 3s 2s/step - det_loss: 0.3945 - cls_loss: 0.2724 - box_loss: 0.0024 - reg_l2_loss: 0.0634 - loss: 0.4579 - learning_rate: 0.0687 - gradient_norm: 0.9797\n",
            "Epoch 24/92\n",
            "2/2 [==============================] - 3s 2s/step - det_loss: 0.3541 - cls_loss: 0.2496 - box_loss: 0.0021 - reg_l2_loss: 0.0634 - loss: 0.4175 - learning_rate: 0.0677 - gradient_norm: 1.0072\n",
            "Epoch 25/92\n",
            "2/2 [==============================] - 3s 2s/step - det_loss: 0.3157 - cls_loss: 0.2196 - box_loss: 0.0019 - reg_l2_loss: 0.0634 - loss: 0.3791 - learning_rate: 0.0667 - gradient_norm: 0.8879\n",
            "Epoch 26/92\n",
            "2/2 [==============================] - 3s 2s/step - det_loss: 0.3114 - cls_loss: 0.2089 - box_loss: 0.0021 - reg_l2_loss: 0.0634 - loss: 0.3749 - learning_rate: 0.0657 - gradient_norm: 0.9048\n",
            "Epoch 27/92\n",
            "2/2 [==============================] - 3s 2s/step - det_loss: 0.3202 - cls_loss: 0.2171 - box_loss: 0.0021 - reg_l2_loss: 0.0634 - loss: 0.3836 - learning_rate: 0.0646 - gradient_norm: 1.0372\n",
            "Epoch 28/92\n",
            "2/2 [==============================] - 3s 2s/step - det_loss: 0.2768 - cls_loss: 0.1823 - box_loss: 0.0019 - reg_l2_loss: 0.0634 - loss: 0.3402 - learning_rate: 0.0635 - gradient_norm: 1.0401\n",
            "Epoch 29/92\n",
            "2/2 [==============================] - 4s 3s/step - det_loss: 0.2764 - cls_loss: 0.1812 - box_loss: 0.0019 - reg_l2_loss: 0.0635 - loss: 0.3399 - learning_rate: 0.0623 - gradient_norm: 1.1602\n",
            "Epoch 30/92\n",
            "2/2 [==============================] - 3s 2s/step - det_loss: 0.2823 - cls_loss: 0.1847 - box_loss: 0.0020 - reg_l2_loss: 0.0635 - loss: 0.3458 - learning_rate: 0.0612 - gradient_norm: 1.1484\n",
            "Epoch 31/92\n",
            "2/2 [==============================] - 3s 2s/step - det_loss: 0.2720 - cls_loss: 0.1785 - box_loss: 0.0019 - reg_l2_loss: 0.0635 - loss: 0.3354 - learning_rate: 0.0600 - gradient_norm: 1.3303\n",
            "Epoch 32/92\n",
            "2/2 [==============================] - 3s 2s/step - det_loss: 0.2559 - cls_loss: 0.1746 - box_loss: 0.0016 - reg_l2_loss: 0.0635 - loss: 0.3193 - learning_rate: 0.0588 - gradient_norm: 1.0898\n",
            "Epoch 33/92\n",
            "2/2 [==============================] - 3s 2s/step - det_loss: 0.2738 - cls_loss: 0.1790 - box_loss: 0.0019 - reg_l2_loss: 0.0635 - loss: 0.3373 - learning_rate: 0.0576 - gradient_norm: 0.9874\n",
            "Epoch 34/92\n",
            "2/2 [==============================] - 3s 2s/step - det_loss: 0.2469 - cls_loss: 0.1615 - box_loss: 0.0017 - reg_l2_loss: 0.0635 - loss: 0.3104 - learning_rate: 0.0563 - gradient_norm: 0.8947\n",
            "Epoch 35/92\n",
            "2/2 [==============================] - 4s 3s/step - det_loss: 0.2363 - cls_loss: 0.1567 - box_loss: 0.0016 - reg_l2_loss: 0.0635 - loss: 0.2998 - learning_rate: 0.0550 - gradient_norm: 0.8206\n",
            "Epoch 36/92\n",
            "2/2 [==============================] - 3s 2s/step - det_loss: 0.2840 - cls_loss: 0.1871 - box_loss: 0.0019 - reg_l2_loss: 0.0635 - loss: 0.3475 - learning_rate: 0.0538 - gradient_norm: 1.4890\n",
            "Epoch 37/92\n",
            "2/2 [==============================] - 3s 2s/step - det_loss: 0.2496 - cls_loss: 0.1646 - box_loss: 0.0017 - reg_l2_loss: 0.0635 - loss: 0.3131 - learning_rate: 0.0524 - gradient_norm: 0.9333\n",
            "Epoch 38/92\n",
            "2/2 [==============================] - 3s 2s/step - det_loss: 0.2507 - cls_loss: 0.1626 - box_loss: 0.0018 - reg_l2_loss: 0.0635 - loss: 0.3142 - learning_rate: 0.0511 - gradient_norm: 1.1615\n",
            "Epoch 39/92\n",
            "2/2 [==============================] - 3s 2s/step - det_loss: 0.2302 - cls_loss: 0.1540 - box_loss: 0.0015 - reg_l2_loss: 0.0635 - loss: 0.2937 - learning_rate: 0.0498 - gradient_norm: 0.9221\n",
            "Epoch 40/92\n",
            "2/2 [==============================] - 3s 2s/step - det_loss: 0.2446 - cls_loss: 0.1499 - box_loss: 0.0019 - reg_l2_loss: 0.0635 - loss: 0.3081 - learning_rate: 0.0485 - gradient_norm: 1.2419\n",
            "Epoch 41/92\n",
            "2/2 [==============================] - 3s 2s/step - det_loss: 0.2579 - cls_loss: 0.1683 - box_loss: 0.0018 - reg_l2_loss: 0.0635 - loss: 0.3213 - learning_rate: 0.0471 - gradient_norm: 1.0639\n",
            "Epoch 42/92\n",
            "2/2 [==============================] - 4s 3s/step - det_loss: 0.2483 - cls_loss: 0.1618 - box_loss: 0.0017 - reg_l2_loss: 0.0635 - loss: 0.3118 - learning_rate: 0.0457 - gradient_norm: 1.2172\n",
            "Epoch 43/92\n",
            "2/2 [==============================] - 3s 2s/step - det_loss: 0.2328 - cls_loss: 0.1526 - box_loss: 0.0016 - reg_l2_loss: 0.0635 - loss: 0.2963 - learning_rate: 0.0444 - gradient_norm: 1.0635\n",
            "Epoch 44/92\n",
            "2/2 [==============================] - 3s 2s/step - det_loss: 0.2200 - cls_loss: 0.1462 - box_loss: 0.0015 - reg_l2_loss: 0.0635 - loss: 0.2835 - learning_rate: 0.0430 - gradient_norm: 0.8601\n",
            "Epoch 45/92\n",
            "2/2 [==============================] - 3s 2s/step - det_loss: 0.2218 - cls_loss: 0.1450 - box_loss: 0.0015 - reg_l2_loss: 0.0635 - loss: 0.2853 - learning_rate: 0.0416 - gradient_norm: 0.9788\n",
            "Epoch 46/92\n",
            "2/2 [==============================] - 3s 2s/step - det_loss: 0.2148 - cls_loss: 0.1427 - box_loss: 0.0014 - reg_l2_loss: 0.0635 - loss: 0.2783 - learning_rate: 0.0402 - gradient_norm: 0.9022\n",
            "Epoch 47/92\n",
            "2/2 [==============================] - 3s 2s/step - det_loss: 0.2187 - cls_loss: 0.1391 - box_loss: 0.0016 - reg_l2_loss: 0.0635 - loss: 0.2822 - learning_rate: 0.0388 - gradient_norm: 0.9005\n",
            "Epoch 48/92\n",
            "2/2 [==============================] - 3s 2s/step - det_loss: 0.2197 - cls_loss: 0.1462 - box_loss: 0.0015 - reg_l2_loss: 0.0635 - loss: 0.2832 - learning_rate: 0.0375 - gradient_norm: 0.8337\n",
            "Epoch 49/92\n",
            "2/2 [==============================] - 4s 3s/step - det_loss: 0.2158 - cls_loss: 0.1428 - box_loss: 0.0015 - reg_l2_loss: 0.0635 - loss: 0.2793 - learning_rate: 0.0361 - gradient_norm: 0.7668\n",
            "Epoch 50/92\n",
            "2/2 [==============================] - 3s 2s/step - det_loss: 0.2147 - cls_loss: 0.1450 - box_loss: 0.0014 - reg_l2_loss: 0.0635 - loss: 0.2782 - learning_rate: 0.0347 - gradient_norm: 0.8307\n",
            "Epoch 51/92\n",
            "2/2 [==============================] - 3s 2s/step - det_loss: 0.2143 - cls_loss: 0.1456 - box_loss: 0.0014 - reg_l2_loss: 0.0635 - loss: 0.2778 - learning_rate: 0.0334 - gradient_norm: 0.9032\n",
            "Epoch 52/92\n",
            "2/2 [==============================] - 3s 2s/step - det_loss: 0.2217 - cls_loss: 0.1520 - box_loss: 0.0014 - reg_l2_loss: 0.0635 - loss: 0.2852 - learning_rate: 0.0320 - gradient_norm: 0.8676\n",
            "Epoch 53/92\n",
            "2/2 [==============================] - 3s 2s/step - det_loss: 0.2109 - cls_loss: 0.1445 - box_loss: 0.0013 - reg_l2_loss: 0.0635 - loss: 0.2744 - learning_rate: 0.0307 - gradient_norm: 0.7097\n",
            "Epoch 54/92\n",
            "2/2 [==============================] - 3s 2s/step - det_loss: 0.2042 - cls_loss: 0.1401 - box_loss: 0.0013 - reg_l2_loss: 0.0635 - loss: 0.2677 - learning_rate: 0.0293 - gradient_norm: 0.5927\n",
            "Epoch 55/92\n",
            "2/2 [==============================] - 4s 3s/step - det_loss: 0.1870 - cls_loss: 0.1288 - box_loss: 0.0012 - reg_l2_loss: 0.0635 - loss: 0.2505 - learning_rate: 0.0280 - gradient_norm: 0.7641\n",
            "Epoch 56/92\n",
            "2/2 [==============================] - 3s 2s/step - det_loss: 0.1980 - cls_loss: 0.1367 - box_loss: 0.0012 - reg_l2_loss: 0.0635 - loss: 0.2615 - learning_rate: 0.0267 - gradient_norm: 0.7884\n",
            "Epoch 57/92\n",
            "2/2 [==============================] - 3s 2s/step - det_loss: 0.2179 - cls_loss: 0.1465 - box_loss: 0.0014 - reg_l2_loss: 0.0635 - loss: 0.2814 - learning_rate: 0.0254 - gradient_norm: 0.5861\n",
            "Epoch 58/92\n",
            "2/2 [==============================] - 3s 2s/step - det_loss: 0.2094 - cls_loss: 0.1411 - box_loss: 0.0014 - reg_l2_loss: 0.0635 - loss: 0.2729 - learning_rate: 0.0241 - gradient_norm: 0.9104\n",
            "Epoch 59/92\n",
            "2/2 [==============================] - 3s 2s/step - det_loss: 0.1895 - cls_loss: 0.1280 - box_loss: 0.0012 - reg_l2_loss: 0.0635 - loss: 0.2530 - learning_rate: 0.0229 - gradient_norm: 0.5137\n",
            "Epoch 60/92\n",
            "2/2 [==============================] - 3s 2s/step - det_loss: 0.1948 - cls_loss: 0.1373 - box_loss: 0.0011 - reg_l2_loss: 0.0635 - loss: 0.2583 - learning_rate: 0.0216 - gradient_norm: 0.6574\n",
            "Epoch 61/92\n",
            "2/2 [==============================] - 3s 2s/step - det_loss: 0.1868 - cls_loss: 0.1309 - box_loss: 0.0011 - reg_l2_loss: 0.0635 - loss: 0.2503 - learning_rate: 0.0204 - gradient_norm: 0.5587\n",
            "Epoch 62/92\n",
            "2/2 [==============================] - 4s 3s/step - det_loss: 0.2042 - cls_loss: 0.1343 - box_loss: 0.0014 - reg_l2_loss: 0.0635 - loss: 0.2677 - learning_rate: 0.0192 - gradient_norm: 0.9388\n",
            "Epoch 63/92\n",
            "2/2 [==============================] - 3s 2s/step - det_loss: 0.1829 - cls_loss: 0.1251 - box_loss: 0.0012 - reg_l2_loss: 0.0635 - loss: 0.2464 - learning_rate: 0.0180 - gradient_norm: 0.5161\n",
            "Epoch 64/92\n",
            "2/2 [==============================] - 3s 2s/step - det_loss: 0.1934 - cls_loss: 0.1242 - box_loss: 0.0014 - reg_l2_loss: 0.0635 - loss: 0.2569 - learning_rate: 0.0169 - gradient_norm: 0.8911\n",
            "Epoch 65/92\n",
            "2/2 [==============================] - 3s 2s/step - det_loss: 0.2043 - cls_loss: 0.1405 - box_loss: 0.0013 - reg_l2_loss: 0.0635 - loss: 0.2678 - learning_rate: 0.0158 - gradient_norm: 0.5422\n",
            "Epoch 66/92\n",
            "2/2 [==============================] - 3s 2s/step - det_loss: 0.1795 - cls_loss: 0.1223 - box_loss: 0.0011 - reg_l2_loss: 0.0635 - loss: 0.2430 - learning_rate: 0.0147 - gradient_norm: 0.5803\n",
            "Epoch 67/92\n",
            "2/2 [==============================] - 3s 2s/step - det_loss: 0.1893 - cls_loss: 0.1323 - box_loss: 0.0011 - reg_l2_loss: 0.0635 - loss: 0.2528 - learning_rate: 0.0136 - gradient_norm: 0.5385\n",
            "Epoch 68/92\n",
            "2/2 [==============================] - 3s 2s/step - det_loss: 0.1794 - cls_loss: 0.1259 - box_loss: 0.0011 - reg_l2_loss: 0.0635 - loss: 0.2429 - learning_rate: 0.0126 - gradient_norm: 0.5178\n",
            "Epoch 69/92\n",
            "2/2 [==============================] - 4s 3s/step - det_loss: 0.1939 - cls_loss: 0.1346 - box_loss: 0.0012 - reg_l2_loss: 0.0635 - loss: 0.2574 - learning_rate: 0.0116 - gradient_norm: 0.5848\n",
            "Epoch 70/92\n",
            "2/2 [==============================] - 3s 2s/step - det_loss: 0.1693 - cls_loss: 0.1167 - box_loss: 0.0011 - reg_l2_loss: 0.0635 - loss: 0.2328 - learning_rate: 0.0107 - gradient_norm: 0.4658\n",
            "Epoch 71/92\n",
            "2/2 [==============================] - 3s 2s/step - det_loss: 0.1935 - cls_loss: 0.1322 - box_loss: 0.0012 - reg_l2_loss: 0.0635 - loss: 0.2569 - learning_rate: 0.0098 - gradient_norm: 0.6031\n",
            "Epoch 72/92\n",
            "2/2 [==============================] - 3s 2s/step - det_loss: 0.1825 - cls_loss: 0.1297 - box_loss: 0.0011 - reg_l2_loss: 0.0635 - loss: 0.2459 - learning_rate: 0.0089 - gradient_norm: 0.6141\n",
            "Epoch 73/92\n",
            "2/2 [==============================] - 3s 2s/step - det_loss: 0.1808 - cls_loss: 0.1263 - box_loss: 0.0011 - reg_l2_loss: 0.0635 - loss: 0.2443 - learning_rate: 0.0080 - gradient_norm: 0.4405\n",
            "Epoch 74/92\n",
            "2/2 [==============================] - 3s 2s/step - det_loss: 0.1929 - cls_loss: 0.1409 - box_loss: 0.0010 - reg_l2_loss: 0.0635 - loss: 0.2564 - learning_rate: 0.0072 - gradient_norm: 0.4775\n",
            "Epoch 75/92\n",
            "2/2 [==============================] - 4s 3s/step - det_loss: 0.1765 - cls_loss: 0.1214 - box_loss: 0.0011 - reg_l2_loss: 0.0635 - loss: 0.2400 - learning_rate: 0.0064 - gradient_norm: 0.6769\n",
            "Epoch 76/92\n",
            "2/2 [==============================] - 4s 3s/step - det_loss: 0.1710 - cls_loss: 0.1232 - box_loss: 9.5562e-04 - reg_l2_loss: 0.0635 - loss: 0.2345 - learning_rate: 0.0057 - gradient_norm: 0.4198\n",
            "Epoch 77/92\n",
            "2/2 [==============================] - 3s 2s/step - det_loss: 0.1709 - cls_loss: 0.1190 - box_loss: 0.0010 - reg_l2_loss: 0.0635 - loss: 0.2344 - learning_rate: 0.0050 - gradient_norm: 0.3858\n",
            "Epoch 78/92\n",
            "2/2 [==============================] - 3s 2s/step - det_loss: 0.1823 - cls_loss: 0.1245 - box_loss: 0.0012 - reg_l2_loss: 0.0635 - loss: 0.2457 - learning_rate: 0.0044 - gradient_norm: 0.4527\n",
            "Epoch 79/92\n",
            "2/2 [==============================] - 3s 2s/step - det_loss: 0.1715 - cls_loss: 0.1187 - box_loss: 0.0011 - reg_l2_loss: 0.0635 - loss: 0.2350 - learning_rate: 0.0038 - gradient_norm: 0.5256\n",
            "Epoch 80/92\n",
            "2/2 [==============================] - 3s 2s/step - det_loss: 0.1815 - cls_loss: 0.1242 - box_loss: 0.0011 - reg_l2_loss: 0.0635 - loss: 0.2449 - learning_rate: 0.0032 - gradient_norm: 0.4948\n",
            "Epoch 81/92\n",
            "2/2 [==============================] - 3s 2s/step - det_loss: 0.1902 - cls_loss: 0.1322 - box_loss: 0.0012 - reg_l2_loss: 0.0635 - loss: 0.2537 - learning_rate: 0.0027 - gradient_norm: 0.4712\n",
            "Epoch 82/92\n",
            "2/2 [==============================] - 4s 3s/step - det_loss: 0.1736 - cls_loss: 0.1230 - box_loss: 0.0010 - reg_l2_loss: 0.0635 - loss: 0.2371 - learning_rate: 0.0022 - gradient_norm: 0.4204\n",
            "Epoch 83/92\n",
            "2/2 [==============================] - 3s 2s/step - det_loss: 0.1800 - cls_loss: 0.1238 - box_loss: 0.0011 - reg_l2_loss: 0.0635 - loss: 0.2435 - learning_rate: 0.0018 - gradient_norm: 0.4202\n",
            "Epoch 84/92\n",
            "2/2 [==============================] - 3s 2s/step - det_loss: 0.1803 - cls_loss: 0.1288 - box_loss: 0.0010 - reg_l2_loss: 0.0635 - loss: 0.2438 - learning_rate: 0.0014 - gradient_norm: 0.5418\n",
            "Epoch 85/92\n",
            "2/2 [==============================] - 3s 2s/step - det_loss: 0.1870 - cls_loss: 0.1304 - box_loss: 0.0011 - reg_l2_loss: 0.0635 - loss: 0.2504 - learning_rate: 0.0011 - gradient_norm: 0.6121\n",
            "Epoch 86/92\n",
            "2/2 [==============================] - 3s 2s/step - det_loss: 0.2020 - cls_loss: 0.1438 - box_loss: 0.0012 - reg_l2_loss: 0.0635 - loss: 0.2655 - learning_rate: 7.6429e-04 - gradient_norm: 0.5681\n",
            "Epoch 87/92\n",
            "2/2 [==============================] - 3s 2s/step - det_loss: 0.1743 - cls_loss: 0.1217 - box_loss: 0.0011 - reg_l2_loss: 0.0635 - loss: 0.2378 - learning_rate: 5.1930e-04 - gradient_norm: 0.4829\n",
            "Epoch 88/92\n",
            "2/2 [==============================] - 3s 2s/step - det_loss: 0.1849 - cls_loss: 0.1266 - box_loss: 0.0012 - reg_l2_loss: 0.0635 - loss: 0.2484 - learning_rate: 3.2136e-04 - gradient_norm: 0.6318\n",
            "Epoch 89/92\n",
            "2/2 [==============================] - 4s 3s/step - det_loss: 0.1749 - cls_loss: 0.1225 - box_loss: 0.0010 - reg_l2_loss: 0.0635 - loss: 0.2383 - learning_rate: 1.7070e-04 - gradient_norm: 0.4044\n",
            "Epoch 90/92\n",
            "2/2 [==============================] - 3s 2s/step - det_loss: 0.1779 - cls_loss: 0.1290 - box_loss: 9.7785e-04 - reg_l2_loss: 0.0635 - loss: 0.2414 - learning_rate: 6.7516e-05 - gradient_norm: 0.5333\n",
            "Epoch 91/92\n",
            "2/2 [==============================] - 3s 2s/step - det_loss: 0.1760 - cls_loss: 0.1224 - box_loss: 0.0011 - reg_l2_loss: 0.0635 - loss: 0.2394 - learning_rate: 1.1917e-05 - gradient_norm: 0.3864\n",
            "Epoch 92/92\n",
            "2/2 [==============================] - 3s 2s/step - det_loss: 0.1614 - cls_loss: 0.1154 - box_loss: 9.1994e-04 - reg_l2_loss: 0.0635 - loss: 0.2248 - learning_rate: 3.9721e-06 - gradient_norm: 0.4493\n"
          ]
        }
      ],
      "source": [
        "model = object_detector.create(train_data, model_spec=spec, batch_size=64, train_whole_model=True, epochs=92, validation_data=val_data)"
      ]
    },
    {
      "cell_type": "code",
      "execution_count": null,
      "metadata": {
        "colab": {
          "base_uri": "https://localhost:8080/"
        },
        "id": "OUqEpcYwAg8L",
        "outputId": "1bfcacd2-93d3-4d00-f2af-4f58997a2652"
      },
      "outputs": [
        {
          "name": "stdout",
          "output_type": "stream",
          "text": [
            "\r1/1 [==============================] - 5s 5s/step\n",
            "\n"
          ]
        },
        {
          "data": {
            "text/plain": [
              "{'AP': 0.6777153,\n",
              " 'AP50': 0.980198,\n",
              " 'AP75': 0.82193047,\n",
              " 'AP_/green': 0.60191214,\n",
              " 'AP_/red': 0.77837396,\n",
              " 'AP_/yellow': 0.6528598,\n",
              " 'APl': -1.0,\n",
              " 'APm': 0.7621287,\n",
              " 'APs': 0.5991885,\n",
              " 'ARl': -1.0,\n",
              " 'ARm': 0.79641837,\n",
              " 'ARmax1': 0.6948343,\n",
              " 'ARmax10': 0.7331384,\n",
              " 'ARmax100': 0.73674464,\n",
              " 'ARs': 0.673064}"
            ]
          },
          "execution_count": 11,
          "metadata": {},
          "output_type": "execute_result"
        }
      ],
      "source": [
        "model.evaluate(val_data)"
      ]
    },
    {
      "cell_type": "code",
      "execution_count": null,
      "metadata": {
        "colab": {
          "base_uri": "https://localhost:8080/"
        },
        "id": "9DDGByPQDo5Y",
        "outputId": "bd9a9df2-f1b9-4479-fc0a-f839e27d4639"
      },
      "outputs": [
        {
          "name": "stdout",
          "output_type": "stream",
          "text": [
            "Model: \"\"\n",
            "_________________________________________________________________\n",
            " Layer (type)                Output Shape              Param #   \n",
            "=================================================================\n",
            " keras_layer_5 (KerasLayer)  multiple                  3234464   \n",
            "                                                                 \n",
            " class_net/class-predict (Se  multiple                 2331      \n",
            " parableConv2D)                                                  \n",
            "                                                                 \n",
            " box_net/box-predict (Separa  multiple                 2916      \n",
            " bleConv2D)                                                      \n",
            "                                                                 \n",
            "=================================================================\n",
            "Total params: 3,239,711\n",
            "Trainable params: 3,192,575\n",
            "Non-trainable params: 47,136\n",
            "_________________________________________________________________\n"
          ]
        }
      ],
      "source": [
        "model.summary()"
      ]
    },
    {
      "cell_type": "code",
      "execution_count": null,
      "metadata": {
        "id": "_u3eFxoBAiqE"
      },
      "outputs": [],
      "source": [
        "model.export(export_dir='.', tflite_filename='android.tflite')"
      ]
    },
    {
      "cell_type": "code",
      "execution_count": null,
      "metadata": {
        "colab": {
          "base_uri": "https://localhost:8080/"
        },
        "id": "Jbl8z9_wBPlr",
        "outputId": "0b8cc11d-5c44-457f-c3fe-7f7e7cc2c784"
      },
      "outputs": [
        {
          "name": "stdout",
          "output_type": "stream",
          "text": [
            "30/30 [==============================] - 70s 2s/step\n",
            "\n"
          ]
        },
        {
          "data": {
            "text/plain": [
              "{'AP': 0.7494588,\n",
              " 'AP50': 1.0,\n",
              " 'AP75': 0.9239845,\n",
              " 'AP_/green': 0.75488764,\n",
              " 'AP_/red': 0.7936881,\n",
              " 'AP_/yellow': 0.69980067,\n",
              " 'APl': -1.0,\n",
              " 'APm': 0.7934497,\n",
              " 'APs': 0.71320236,\n",
              " 'ARl': -1.0,\n",
              " 'ARm': 0.8113146,\n",
              " 'ARmax1': 0.7848928,\n",
              " 'ARmax10': 0.7848928,\n",
              " 'ARmax100': 0.7848928,\n",
              " 'ARs': 0.7537037}"
            ]
          },
          "execution_count": 24,
          "metadata": {},
          "output_type": "execute_result"
        }
      ],
      "source": [
        "model.evaluate_tflite('android.tflite', val_data)"
      ]
    },
    {
      "cell_type": "code",
      "execution_count": null,
      "metadata": {
        "colab": {
          "base_uri": "https://localhost:8080/",
          "height": 17
        },
        "id": "v7zgUkdOUUnD",
        "outputId": "50f4be6c-83da-4b96-956f-401f2a0f7aaa"
      },
      "outputs": [
        {
          "data": {
            "application/javascript": [
              "\n",
              "    async function download(id, filename, size) {\n",
              "      if (!google.colab.kernel.accessAllowed) {\n",
              "        return;\n",
              "      }\n",
              "      const div = document.createElement('div');\n",
              "      const label = document.createElement('label');\n",
              "      label.textContent = `Downloading \"${filename}\": `;\n",
              "      div.appendChild(label);\n",
              "      const progress = document.createElement('progress');\n",
              "      progress.max = size;\n",
              "      div.appendChild(progress);\n",
              "      document.body.appendChild(div);\n",
              "\n",
              "      const buffers = [];\n",
              "      let downloaded = 0;\n",
              "\n",
              "      const channel = await google.colab.kernel.comms.open(id);\n",
              "      // Send a message to notify the kernel that we're ready.\n",
              "      channel.send({})\n",
              "\n",
              "      for await (const message of channel.messages) {\n",
              "        // Send a message to notify the kernel that we're ready.\n",
              "        channel.send({})\n",
              "        if (message.buffers) {\n",
              "          for (const buffer of message.buffers) {\n",
              "            buffers.push(buffer);\n",
              "            downloaded += buffer.byteLength;\n",
              "            progress.value = downloaded;\n",
              "          }\n",
              "        }\n",
              "      }\n",
              "      const blob = new Blob(buffers, {type: 'application/binary'});\n",
              "      const a = document.createElement('a');\n",
              "      a.href = window.URL.createObjectURL(blob);\n",
              "      a.download = filename;\n",
              "      div.appendChild(a);\n",
              "      a.click();\n",
              "      div.remove();\n",
              "    }\n",
              "  "
            ],
            "text/plain": [
              "<IPython.core.display.Javascript object>"
            ]
          },
          "metadata": {},
          "output_type": "display_data"
        },
        {
          "data": {
            "application/javascript": [
              "download(\"download_d2fadf3c-e7be-458b-bbdf-6a7506112f48\", \"android.tflite\", 4445987)"
            ],
            "text/plain": [
              "<IPython.core.display.Javascript object>"
            ]
          },
          "metadata": {},
          "output_type": "display_data"
        }
      ],
      "source": [
        "# Download the TFLite model to your local computer.\n",
        "from google.colab import files\n",
        "files.download('android.tflite')"
      ]
    },
    {
      "cell_type": "code",
      "source": [
        "'''pathrep='/content/drive/MyDrive/Rep-dataset/'\n",
        "DATAlist = os.listdir(pathrep)\n",
        "\n",
        "def representative_dataset():\n",
        "  for i in DATAlist:\n",
        "    current = cv2.imread(pathrep + i)\n",
        "    img=cv2.cvtColor(current,cv2.COLOR_BGR2GRAY)\n",
        "    img = cv2.resize(img,(96, 96))\n",
        "    img_normalized = cv2.normalize(img, None, -128, 127,\n",
        "    cv2.NORM_MINMAX, dtype=cv2.CV_32F)\n",
        "    array = np.array(img_normalized )\n",
        "    #array = np.expand_dims(array, axis=0)\n",
        "    array= np.repeat(array[..., np.newaxis], 3, -1)\n",
        "    array = array.reshape(-1,96,96,3)\n",
        "    #array = np.expand_dims(array, axis=2)\n",
        "    #array = ((array / 127.5) - 1.0).astype(np.float32)\n",
        "    yield([array])'''"
      ],
      "metadata": {
        "id": "9xRkgZ1cWdkR"
      },
      "execution_count": null,
      "outputs": []
    }
  ],
  "metadata": {
    "accelerator": "GPU",
    "colab": {
      "provenance": []
    },
    "gpuClass": "standard",
    "kernelspec": {
      "display_name": "Python 3",
      "name": "python3"
    },
    "language_info": {
      "name": "python"
    }
  },
  "nbformat": 4,
  "nbformat_minor": 0
}